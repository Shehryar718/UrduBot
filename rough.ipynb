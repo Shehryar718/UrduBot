{
 "cells": [
  {
   "cell_type": "code",
   "execution_count": 4,
   "metadata": {},
   "outputs": [
    {
     "data": {
      "text/plain": [
       "{'status': 'success'}"
      ]
     },
     "execution_count": 4,
     "metadata": {},
     "output_type": "execute_result"
    }
   ],
   "source": [
    "import ollama\n",
    "ollama.pull('llama3')\n"
   ]
  },
  {
   "cell_type": "code",
   "execution_count": 34,
   "metadata": {},
   "outputs": [
    {
     "name": "stdout",
     "output_type": "stream",
     "text": [
      "Hello! It's nice to meet you. Is there something I can help you with, or would you like to chat?\n"
     ]
    }
   ],
   "source": [
    "import requests\n",
    "\n",
    "OLLAMA_API_URL = \"https://6817-34-125-222-127.ngrok-free.app/api/chat\"\n",
    "\n",
    "# JSON data\n",
    "payload = {\n",
    "    \"model\": \"llama3\",\n",
    "    \"messages\": [\n",
    "        { \"role\": \"user\", \"content\": \"Hello!\" }\n",
    "    ]\n",
    "}\n",
    "\n",
    "response = requests.post(OLLAMA_API_URL, json=payload)\n",
    "\n",
    "# Decode the response content\n",
    "response_content_decoded = response.content.decode('utf-8')\n",
    "\n",
    "# Parse JSON data\n",
    "chunks = response_content_decoded.strip().split('\\n')\n",
    "\n",
    "# Initialize variables\n",
    "full_text = \"\"\n",
    "text_buffer = \"\"\n",
    "\n",
    "# Loop through each chunk\n",
    "for chunk in chunks:\n",
    "    data = json.loads(chunk)\n",
    "    content = data.get('message', {}).get('content', '')\n",
    "\n",
    "    # Check for punctuation marks\n",
    "    if content.endswith(('.', '!', '?', ',')):\n",
    "        full_text += content + \"\"\n",
    "    else:\n",
    "        full_text += content\n",
    "\n",
    "# Remove trailing whitespace\n",
    "full_text = full_text.strip()\n",
    "\n",
    "# Print the formatted text\n",
    "print(full_text)\n"
   ]
  },
  {
   "cell_type": "code",
   "execution_count": 26,
   "metadata": {},
   "outputs": [
    {
     "data": {
      "text/plain": [
       "'{\"model\":\"llama3\",\"created_at\":\"2024-06-09T10:41:04.300178735Z\",\"message\":{\"role\":\"assistant\",\"content\":\"Hello\"},\"done\":false}\\n{\"model\":\"llama3\",\"created_at\":\"2024-06-09T10:41:04.344391607Z\",\"message\":{\"role\":\"assistant\",\"content\":\"!\"},\"done\":false}\\n{\"model\":\"llama3\",\"created_at\":\"2024-06-09T10:41:04.38826088Z\",\"message\":{\"role\":\"assistant\",\"content\":\" It\"},\"done\":false}\\n{\"model\":\"llama3\",\"created_at\":\"2024-06-09T10:41:04.422576431Z\",\"message\":{\"role\":\"assistant\",\"content\":\"\\'s\"},\"done\":false}\\n{\"model\":\"llama3\",\"created_at\":\"2024-06-09T10:41:04.455256206Z\",\"message\":{\"role\":\"assistant\",\"content\":\" nice\"},\"done\":false}\\n{\"model\":\"llama3\",\"created_at\":\"2024-06-09T10:41:04.487596026Z\",\"message\":{\"role\":\"assistant\",\"content\":\" to\"},\"done\":false}\\n{\"model\":\"llama3\",\"created_at\":\"2024-06-09T10:41:04.520001035Z\",\"message\":{\"role\":\"assistant\",\"content\":\" meet\"},\"done\":false}\\n{\"model\":\"llama3\",\"created_at\":\"2024-06-09T10:41:04.552608874Z\",\"message\":{\"role\":\"assistant\",\"content\":\" you\"},\"done\":false}\\n{\"model\":\"llama3\",\"created_at\":\"2024-06-09T10:41:04.584353154Z\",\"message\":{\"role\":\"assistant\",\"content\":\".\"},\"done\":false}\\n{\"model\":\"llama3\",\"created_at\":\"2024-06-09T10:41:04.613423189Z\",\"message\":{\"role\":\"assistant\",\"content\":\" Is\"},\"done\":false}\\n{\"model\":\"llama3\",\"created_at\":\"2024-06-09T10:41:04.641466471Z\",\"message\":{\"role\":\"assistant\",\"content\":\" there\"},\"done\":false}\\n{\"model\":\"llama3\",\"created_at\":\"2024-06-09T10:41:04.6716338Z\",\"message\":{\"role\":\"assistant\",\"content\":\" something\"},\"done\":false}\\n{\"model\":\"llama3\",\"created_at\":\"2024-06-09T10:41:04.697886576Z\",\"message\":{\"role\":\"assistant\",\"content\":\" I\"},\"done\":false}\\n{\"model\":\"llama3\",\"created_at\":\"2024-06-09T10:41:04.725745754Z\",\"message\":{\"role\":\"assistant\",\"content\":\" can\"},\"done\":false}\\n{\"model\":\"llama3\",\"created_at\":\"2024-06-09T10:41:04.753584809Z\",\"message\":{\"role\":\"assistant\",\"content\":\" help\"},\"done\":false}\\n{\"model\":\"llama3\",\"created_at\":\"2024-06-09T10:41:04.78166498Z\",\"message\":{\"role\":\"assistant\",\"content\":\" you\"},\"done\":false}\\n{\"model\":\"llama3\",\"created_at\":\"2024-06-09T10:41:04.809536789Z\",\"message\":{\"role\":\"assistant\",\"content\":\" with\"},\"done\":false}\\n{\"model\":\"llama3\",\"created_at\":\"2024-06-09T10:41:04.836107117Z\",\"message\":{\"role\":\"assistant\",\"content\":\",\"},\"done\":false}\\n{\"model\":\"llama3\",\"created_at\":\"2024-06-09T10:41:04.865649015Z\",\"message\":{\"role\":\"assistant\",\"content\":\" or\"},\"done\":false}\\n{\"model\":\"llama3\",\"created_at\":\"2024-06-09T10:41:04.893981292Z\",\"message\":{\"role\":\"assistant\",\"content\":\" would\"},\"done\":false}\\n{\"model\":\"llama3\",\"created_at\":\"2024-06-09T10:41:04.920961697Z\",\"message\":{\"role\":\"assistant\",\"content\":\" you\"},\"done\":false}\\n{\"model\":\"llama3\",\"created_at\":\"2024-06-09T10:41:04.951743722Z\",\"message\":{\"role\":\"assistant\",\"content\":\" like\"},\"done\":false}\\n{\"model\":\"llama3\",\"created_at\":\"2024-06-09T10:41:04.978377921Z\",\"message\":{\"role\":\"assistant\",\"content\":\" to\"},\"done\":false}\\n{\"model\":\"llama3\",\"created_at\":\"2024-06-09T10:41:05.007290005Z\",\"message\":{\"role\":\"assistant\",\"content\":\" chat\"},\"done\":false}\\n{\"model\":\"llama3\",\"created_at\":\"2024-06-09T10:41:05.035613174Z\",\"message\":{\"role\":\"assistant\",\"content\":\"?\"},\"done\":false}\\n{\"model\":\"llama3\",\"created_at\":\"2024-06-09T10:41:05.063969213Z\",\"message\":{\"role\":\"assistant\",\"content\":\"\"},\"done_reason\":\"stop\",\"done\":true,\"total_duration\":933584506,\"load_duration\":1420980,\"prompt_eval_duration\":44081000,\"eval_count\":26,\"eval_duration\":763618000}\\n'"
      ]
     },
     "execution_count": 26,
     "metadata": {},
     "output_type": "execute_result"
    }
   ],
   "source": [
    "response.content.decode('utf-8')\n"
   ]
  },
  {
   "cell_type": "code",
   "execution_count": 33,
   "metadata": {},
   "outputs": [
    {
     "name": "stdout",
     "output_type": "stream",
     "text": [
      "Hello! It's nice to meet you. Is there something I can help you with, or would you like to chat?\n"
     ]
    }
   ],
   "source": []
  },
  {
   "cell_type": "code",
   "execution_count": 31,
   "metadata": {},
   "outputs": [
    {
     "ename": "TypeError",
     "evalue": "string indices must be integers",
     "output_type": "error",
     "traceback": [
      "\u001b[0;31m---------------------------------------------------------------------------\u001b[0m",
      "\u001b[0;31mTypeError\u001b[0m                                 Traceback (most recent call last)",
      "Cell \u001b[0;32mIn[31], line 4\u001b[0m\n\u001b[1;32m      2\u001b[0m text_buffer \u001b[38;5;241m=\u001b[39m \u001b[38;5;124m\"\u001b[39m\u001b[38;5;124m\"\u001b[39m\n\u001b[1;32m      3\u001b[0m \u001b[38;5;28;01mfor\u001b[39;00m chunk \u001b[38;5;129;01min\u001b[39;00m messages:\n\u001b[0;32m----> 4\u001b[0m     text_buffer \u001b[38;5;241m+\u001b[39m\u001b[38;5;241m=\u001b[39m \u001b[43mchunk\u001b[49m\u001b[43m[\u001b[49m\u001b[38;5;124;43m\"\u001b[39;49m\u001b[38;5;124;43mmessage\u001b[39;49m\u001b[38;5;124;43m\"\u001b[39;49m\u001b[43m]\u001b[49m[\u001b[38;5;124m\"\u001b[39m\u001b[38;5;124mcontent\u001b[39m\u001b[38;5;124m\"\u001b[39m]\n\u001b[1;32m      5\u001b[0m     \u001b[38;5;28;01mif\u001b[39;00m text_buffer\u001b[38;5;241m.\u001b[39mendswith(\u001b[38;5;124m\"\u001b[39m\u001b[38;5;124m.\u001b[39m\u001b[38;5;124m\"\u001b[39m):\n\u001b[1;32m      6\u001b[0m         full_text \u001b[38;5;241m+\u001b[39m\u001b[38;5;241m=\u001b[39m text_buffer\n",
      "\u001b[0;31mTypeError\u001b[0m: string indices must be integers"
     ]
    }
   ],
   "source": [
    "full_text = \"\"\n",
    "text_buffer = \"\"\n",
    "for chunk in messages:\n",
    "    text_buffer += \n",
    "    if text_buffer.endswith(\".\"):\n",
    "        full_text += text_buffer\n",
    "        text_buffer = \"\"\n",
    "\n",
    "if text_buffer:\n",
    "    full_text += text_buffer\n"
   ]
  },
  {
   "cell_type": "code",
   "execution_count": 11,
   "metadata": {},
   "outputs": [
    {
     "name": "stdout",
     "output_type": "stream",
     "text": [
      "Hello\n",
      "!\n",
      " It\n",
      "'s\n",
      " nice\n",
      " to\n",
      " meet\n",
      " you\n",
      ".\n",
      " Is\n",
      " there\n",
      " something\n",
      " I\n",
      " can\n",
      " help\n",
      " you\n",
      " with\n",
      ",\n",
      " or\n",
      " would\n",
      " you\n",
      " like\n",
      " to\n",
      " chat\n",
      "?\n"
     ]
    }
   ],
   "source": [
    "import json\n",
    "\n",
    "data = response.content\n",
    "\n",
    "messages = []\n",
    "\n",
    "# Split data into lines and iterate over each line\n",
    "for line in data.splitlines():\n",
    "    # Parse JSON from each line\n",
    "    message_data = json.loads(line)\n",
    "    # Extract the content field from the message and append it to the messages list\n",
    "    message_content = message_data.get('message', {}).get('content', '')\n",
    "    messages.append(message_content)\n",
    "\n",
    "# Filter out empty strings\n",
    "messages = [message for message in messages if message]\n",
    "\n",
    "# Print the extracted messages\n",
    "for message in messages:\n",
    "    print(message)\n"
   ]
  },
  {
   "cell_type": "code",
   "execution_count": 14,
   "metadata": {},
   "outputs": [
    {
     "name": "stdout",
     "output_type": "stream",
     "text": [
      "Hello !  it 's  nice  to  meet  you .  is  there  something  i  can  help  you  with ,  or  would  you  like  to  chat ? \n"
     ]
    }
   ],
   "source": [
    "# Split the data into individual messages\n",
    "messages = data.decode('utf-8').split('\\n')\n",
    "\n",
    "# Remove empty strings and extract content from each message\n",
    "messages = [json.loads(msg)['message']['content'] for msg in messages if msg.strip()]\n",
    "\n",
    "# Concatenate the messages and format the sentence\n",
    "formatted_sentence = ' '.join(messages).capitalize()\n",
    "\n",
    "print(formatted_sentence)\n"
   ]
  },
  {
   "cell_type": "code",
   "execution_count": null,
   "metadata": {},
   "outputs": [],
   "source": [
    "\n"
   ]
  },
  {
   "cell_type": "code",
   "execution_count": 1,
   "metadata": {},
   "outputs": [
    {
     "name": "stderr",
     "output_type": "stream",
     "text": [
      "/opt/anaconda3/envs/urdu/lib/python3.10/site-packages/tqdm/auto.py:21: TqdmWarning: IProgress not found. Please update jupyter and ipywidgets. See https://ipywidgets.readthedocs.io/en/stable/user_install.html\n",
      "  from .autonotebook import tqdm as notebook_tqdm\n"
     ]
    }
   ],
   "source": [
    "import numpy as np\n",
    "from transformers.pipelines.audio_utils import ffmpeg_microphone_live\n"
   ]
  },
  {
   "cell_type": "code",
   "execution_count": 2,
   "metadata": {},
   "outputs": [
    {
     "name": "stderr",
     "output_type": "stream",
     "text": [
      "Special tokens have been added in the vocabulary, make sure the associated word embeddings are fine-tuned or trained.\n"
     ]
    }
   ],
   "source": [
    "# Use a pipeline as a high-level helper\n",
    "from transformers import pipeline\n",
    "pipe = pipeline(\"automatic-speech-recognition\", model=\"openai/whisper-small\")\n"
   ]
  },
  {
   "cell_type": "code",
   "execution_count": 13,
   "metadata": {},
   "outputs": [
    {
     "name": "stderr",
     "output_type": "stream",
     "text": [
      "2024-06-10 13:58:01.426 ffmpeg[46206:5543023] WARNING: Add NSCameraUseContinuityCameraDeviceType to your Info.plist to use AVCaptureDeviceTypeContinuityCamera.\n"
     ]
    }
   ],
   "source": [
    "stream_chunk_s = 1.0\n",
    "chunk_length_s = 0.5\n",
    "SAMPLING_RATE = 16_000\n",
    "\n",
    "mic = ffmpeg_microphone_live(\n",
    "    sampling_rate=SAMPLING_RATE,\n",
    "    chunk_length_s=chunk_length_s,\n",
    "    stream_chunk_s=stream_chunk_s,\n",
    "    stride_length_s=0.0,\n",
    ")\n",
    "\n",
    "audios = []\n",
    "for i in range(2):\n",
    "    audio = next(mic)['raw']\n",
    "    audios.append(audio)\n"
   ]
  },
  {
   "cell_type": "code",
   "execution_count": 14,
   "metadata": {},
   "outputs": [
    {
     "data": {
      "text/plain": [
       "[array([ 0.00012101,  0.0001231 ,  0.00012174, ..., -0.00137429,\n",
       "         0.00074111,  0.00297782], dtype=float32),\n",
       " array([0.00480944, 0.00548853, 0.00524643, ..., 0.0052021 , 0.00428747,\n",
       "        0.00293501], dtype=float32)]"
      ]
     },
     "execution_count": 14,
     "metadata": {},
     "output_type": "execute_result"
    }
   ],
   "source": [
    "audios\n"
   ]
  },
  {
   "cell_type": "code",
   "execution_count": 15,
   "metadata": {},
   "outputs": [
    {
     "data": {
      "text/html": [
       "\n",
       "                <audio  controls=\"controls\" autoplay=\"autoplay\">\n",
       "                    <source src=\"data:audio/wav;base64,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\" type=\"audio/wav\" />\n",
       "                    Your browser does not support the audio element.\n",
       "                </audio>\n",
       "              "
      ],
      "text/plain": [
       "<IPython.lib.display.Audio object>"
      ]
     },
     "execution_count": 15,
     "metadata": {},
     "output_type": "execute_result"
    }
   ],
   "source": [
    "audios_flattened = np.array(audios).flatten()\n",
    "from IPython.display import Audio\n",
    "\n",
    "Audio(audios_flattened, rate=SAMPLING_RATE, autoplay=True)\n"
   ]
  },
  {
   "cell_type": "code",
   "execution_count": 19,
   "metadata": {},
   "outputs": [
    {
     "data": {
      "text/plain": [
       "{'text': ' ام میرا نام شریعت ہے'}"
      ]
     },
     "execution_count": 19,
     "metadata": {},
     "output_type": "execute_result"
    }
   ],
   "source": [
    "pipe(audios_flattened, generate_kwargs={'language': 'urdu'})\n"
   ]
  },
  {
   "cell_type": "code",
   "execution_count": null,
   "metadata": {},
   "outputs": [],
   "source": []
  },
  {
   "cell_type": "code",
   "execution_count": null,
   "metadata": {},
   "outputs": [],
   "source": []
  },
  {
   "cell_type": "code",
   "execution_count": 1,
   "metadata": {},
   "outputs": [
    {
     "name": "stderr",
     "output_type": "stream",
     "text": [
      "/opt/anaconda3/envs/urdu/lib/python3.10/site-packages/tqdm/auto.py:21: TqdmWarning: IProgress not found. Please update jupyter and ipywidgets. See https://ipywidgets.readthedocs.io/en/stable/user_install.html\n",
      "  from .autonotebook import tqdm as notebook_tqdm\n"
     ]
    },
    {
     "ename": "KeyboardInterrupt",
     "evalue": "",
     "output_type": "error",
     "traceback": [
      "\u001b[0;31m---------------------------------------------------------------------------\u001b[0m",
      "\u001b[0;31mKeyboardInterrupt\u001b[0m                         Traceback (most recent call last)",
      "Cell \u001b[0;32mIn[1], line 2\u001b[0m\n\u001b[1;32m      1\u001b[0m \u001b[38;5;28;01mimport\u001b[39;00m \u001b[38;5;21;01mnumpy\u001b[39;00m \u001b[38;5;28;01mas\u001b[39;00m \u001b[38;5;21;01mnp\u001b[39;00m\n\u001b[0;32m----> 2\u001b[0m \u001b[38;5;28;01mfrom\u001b[39;00m \u001b[38;5;21;01mtransformers\u001b[39;00m \u001b[38;5;28;01mimport\u001b[39;00m pipeline\n\u001b[1;32m      3\u001b[0m \u001b[38;5;28;01mfrom\u001b[39;00m \u001b[38;5;21;01mIPython\u001b[39;00m\u001b[38;5;21;01m.\u001b[39;00m\u001b[38;5;21;01mdisplay\u001b[39;00m \u001b[38;5;28;01mimport\u001b[39;00m Audio\n\u001b[1;32m      4\u001b[0m \u001b[38;5;28;01mfrom\u001b[39;00m \u001b[38;5;21;01mtransformers\u001b[39;00m\u001b[38;5;21;01m.\u001b[39;00m\u001b[38;5;21;01mpipelines\u001b[39;00m\u001b[38;5;21;01m.\u001b[39;00m\u001b[38;5;21;01maudio_utils\u001b[39;00m \u001b[38;5;28;01mimport\u001b[39;00m ffmpeg_microphone_live\n",
      "File \u001b[0;32m<frozen importlib._bootstrap>:1075\u001b[0m, in \u001b[0;36m_handle_fromlist\u001b[0;34m(module, fromlist, import_, recursive)\u001b[0m\n",
      "File \u001b[0;32m/opt/anaconda3/envs/urdu/lib/python3.10/site-packages/transformers/utils/import_utils.py:1272\u001b[0m, in \u001b[0;36m_LazyModule.__getattr__\u001b[0;34m(self, name)\u001b[0m\n\u001b[1;32m   1270\u001b[0m     value \u001b[38;5;241m=\u001b[39m \u001b[38;5;28mself\u001b[39m\u001b[38;5;241m.\u001b[39m_get_module(name)\n\u001b[1;32m   1271\u001b[0m \u001b[38;5;28;01melif\u001b[39;00m name \u001b[38;5;129;01min\u001b[39;00m \u001b[38;5;28mself\u001b[39m\u001b[38;5;241m.\u001b[39m_class_to_module\u001b[38;5;241m.\u001b[39mkeys():\n\u001b[0;32m-> 1272\u001b[0m     module \u001b[38;5;241m=\u001b[39m \u001b[38;5;28;43mself\u001b[39;49m\u001b[38;5;241;43m.\u001b[39;49m\u001b[43m_get_module\u001b[49m\u001b[43m(\u001b[49m\u001b[38;5;28;43mself\u001b[39;49m\u001b[38;5;241;43m.\u001b[39;49m\u001b[43m_class_to_module\u001b[49m\u001b[43m[\u001b[49m\u001b[43mname\u001b[49m\u001b[43m]\u001b[49m\u001b[43m)\u001b[49m\n\u001b[1;32m   1273\u001b[0m     value \u001b[38;5;241m=\u001b[39m \u001b[38;5;28mgetattr\u001b[39m(module, name)\n\u001b[1;32m   1274\u001b[0m \u001b[38;5;28;01melse\u001b[39;00m:\n",
      "File \u001b[0;32m/opt/anaconda3/envs/urdu/lib/python3.10/site-packages/transformers/utils/import_utils.py:1282\u001b[0m, in \u001b[0;36m_LazyModule._get_module\u001b[0;34m(self, module_name)\u001b[0m\n\u001b[1;32m   1280\u001b[0m \u001b[38;5;28;01mdef\u001b[39;00m \u001b[38;5;21m_get_module\u001b[39m(\u001b[38;5;28mself\u001b[39m, module_name: \u001b[38;5;28mstr\u001b[39m):\n\u001b[1;32m   1281\u001b[0m     \u001b[38;5;28;01mtry\u001b[39;00m:\n\u001b[0;32m-> 1282\u001b[0m         \u001b[38;5;28;01mreturn\u001b[39;00m \u001b[43mimportlib\u001b[49m\u001b[38;5;241;43m.\u001b[39;49m\u001b[43mimport_module\u001b[49m\u001b[43m(\u001b[49m\u001b[38;5;124;43m\"\u001b[39;49m\u001b[38;5;124;43m.\u001b[39;49m\u001b[38;5;124;43m\"\u001b[39;49m\u001b[43m \u001b[49m\u001b[38;5;241;43m+\u001b[39;49m\u001b[43m \u001b[49m\u001b[43mmodule_name\u001b[49m\u001b[43m,\u001b[49m\u001b[43m \u001b[49m\u001b[38;5;28;43mself\u001b[39;49m\u001b[38;5;241;43m.\u001b[39;49m\u001b[38;5;18;43m__name__\u001b[39;49m\u001b[43m)\u001b[49m\n\u001b[1;32m   1283\u001b[0m     \u001b[38;5;28;01mexcept\u001b[39;00m \u001b[38;5;167;01mException\u001b[39;00m \u001b[38;5;28;01mas\u001b[39;00m e:\n\u001b[1;32m   1284\u001b[0m         \u001b[38;5;28;01mraise\u001b[39;00m \u001b[38;5;167;01mRuntimeError\u001b[39;00m(\n\u001b[1;32m   1285\u001b[0m             \u001b[38;5;124mf\u001b[39m\u001b[38;5;124m\"\u001b[39m\u001b[38;5;124mFailed to import \u001b[39m\u001b[38;5;132;01m{\u001b[39;00m\u001b[38;5;28mself\u001b[39m\u001b[38;5;241m.\u001b[39m\u001b[38;5;18m__name__\u001b[39m\u001b[38;5;132;01m}\u001b[39;00m\u001b[38;5;124m.\u001b[39m\u001b[38;5;132;01m{\u001b[39;00mmodule_name\u001b[38;5;132;01m}\u001b[39;00m\u001b[38;5;124m because of the following error (look up to see its\u001b[39m\u001b[38;5;124m\"\u001b[39m\n\u001b[1;32m   1286\u001b[0m             \u001b[38;5;124mf\u001b[39m\u001b[38;5;124m\"\u001b[39m\u001b[38;5;124m traceback):\u001b[39m\u001b[38;5;130;01m\\n\u001b[39;00m\u001b[38;5;132;01m{\u001b[39;00me\u001b[38;5;132;01m}\u001b[39;00m\u001b[38;5;124m\"\u001b[39m\n\u001b[1;32m   1287\u001b[0m         ) \u001b[38;5;28;01mfrom\u001b[39;00m \u001b[38;5;21;01me\u001b[39;00m\n",
      "File \u001b[0;32m/opt/anaconda3/envs/urdu/lib/python3.10/importlib/__init__.py:126\u001b[0m, in \u001b[0;36mimport_module\u001b[0;34m(name, package)\u001b[0m\n\u001b[1;32m    124\u001b[0m             \u001b[38;5;28;01mbreak\u001b[39;00m\n\u001b[1;32m    125\u001b[0m         level \u001b[38;5;241m+\u001b[39m\u001b[38;5;241m=\u001b[39m \u001b[38;5;241m1\u001b[39m\n\u001b[0;32m--> 126\u001b[0m \u001b[38;5;28;01mreturn\u001b[39;00m \u001b[43m_bootstrap\u001b[49m\u001b[38;5;241;43m.\u001b[39;49m\u001b[43m_gcd_import\u001b[49m\u001b[43m(\u001b[49m\u001b[43mname\u001b[49m\u001b[43m[\u001b[49m\u001b[43mlevel\u001b[49m\u001b[43m:\u001b[49m\u001b[43m]\u001b[49m\u001b[43m,\u001b[49m\u001b[43m \u001b[49m\u001b[43mpackage\u001b[49m\u001b[43m,\u001b[49m\u001b[43m \u001b[49m\u001b[43mlevel\u001b[49m\u001b[43m)\u001b[49m\n",
      "File \u001b[0;32m/opt/anaconda3/envs/urdu/lib/python3.10/site-packages/transformers/pipelines/__init__.py:28\u001b[0m\n\u001b[1;32m     26\u001b[0m \u001b[38;5;28;01mfrom\u001b[39;00m \u001b[38;5;21;01m.\u001b[39;00m\u001b[38;5;21;01m.\u001b[39;00m\u001b[38;5;21;01mdynamic_module_utils\u001b[39;00m \u001b[38;5;28;01mimport\u001b[39;00m get_class_from_dynamic_module\n\u001b[1;32m     27\u001b[0m \u001b[38;5;28;01mfrom\u001b[39;00m \u001b[38;5;21;01m.\u001b[39;00m\u001b[38;5;21;01m.\u001b[39;00m\u001b[38;5;21;01mfeature_extraction_utils\u001b[39;00m \u001b[38;5;28;01mimport\u001b[39;00m PreTrainedFeatureExtractor\n\u001b[0;32m---> 28\u001b[0m \u001b[38;5;28;01mfrom\u001b[39;00m \u001b[38;5;21;01m.\u001b[39;00m\u001b[38;5;21;01m.\u001b[39;00m\u001b[38;5;21;01mimage_processing_utils\u001b[39;00m \u001b[38;5;28;01mimport\u001b[39;00m BaseImageProcessor\n\u001b[1;32m     29\u001b[0m \u001b[38;5;28;01mfrom\u001b[39;00m \u001b[38;5;21;01m.\u001b[39;00m\u001b[38;5;21;01m.\u001b[39;00m\u001b[38;5;21;01mmodels\u001b[39;00m\u001b[38;5;21;01m.\u001b[39;00m\u001b[38;5;21;01mauto\u001b[39;00m\u001b[38;5;21;01m.\u001b[39;00m\u001b[38;5;21;01mconfiguration_auto\u001b[39;00m \u001b[38;5;28;01mimport\u001b[39;00m AutoConfig\n\u001b[1;32m     30\u001b[0m \u001b[38;5;28;01mfrom\u001b[39;00m \u001b[38;5;21;01m.\u001b[39;00m\u001b[38;5;21;01m.\u001b[39;00m\u001b[38;5;21;01mmodels\u001b[39;00m\u001b[38;5;21;01m.\u001b[39;00m\u001b[38;5;21;01mauto\u001b[39;00m\u001b[38;5;21;01m.\u001b[39;00m\u001b[38;5;21;01mfeature_extraction_auto\u001b[39;00m \u001b[38;5;28;01mimport\u001b[39;00m FEATURE_EXTRACTOR_MAPPING, AutoFeatureExtractor\n",
      "File \u001b[0;32m/opt/anaconda3/envs/urdu/lib/python3.10/site-packages/transformers/image_processing_utils.py:28\u001b[0m\n\u001b[1;32m     26\u001b[0m \u001b[38;5;28;01mfrom\u001b[39;00m \u001b[38;5;21;01m.\u001b[39;00m\u001b[38;5;21;01mdynamic_module_utils\u001b[39;00m \u001b[38;5;28;01mimport\u001b[39;00m custom_object_save\n\u001b[1;32m     27\u001b[0m \u001b[38;5;28;01mfrom\u001b[39;00m \u001b[38;5;21;01m.\u001b[39;00m\u001b[38;5;21;01mfeature_extraction_utils\u001b[39;00m \u001b[38;5;28;01mimport\u001b[39;00m BatchFeature \u001b[38;5;28;01mas\u001b[39;00m BaseBatchFeature\n\u001b[0;32m---> 28\u001b[0m \u001b[38;5;28;01mfrom\u001b[39;00m \u001b[38;5;21;01m.\u001b[39;00m\u001b[38;5;21;01mimage_transforms\u001b[39;00m \u001b[38;5;28;01mimport\u001b[39;00m center_crop, normalize, rescale\n\u001b[1;32m     29\u001b[0m \u001b[38;5;28;01mfrom\u001b[39;00m \u001b[38;5;21;01m.\u001b[39;00m\u001b[38;5;21;01mimage_utils\u001b[39;00m \u001b[38;5;28;01mimport\u001b[39;00m ChannelDimension\n\u001b[1;32m     30\u001b[0m \u001b[38;5;28;01mfrom\u001b[39;00m \u001b[38;5;21;01m.\u001b[39;00m\u001b[38;5;21;01mutils\u001b[39;00m \u001b[38;5;28;01mimport\u001b[39;00m (\n\u001b[1;32m     31\u001b[0m     IMAGE_PROCESSOR_NAME,\n\u001b[1;32m     32\u001b[0m     PushToHubMixin,\n\u001b[0;32m   (...)\u001b[0m\n\u001b[1;32m     40\u001b[0m     logging,\n\u001b[1;32m     41\u001b[0m )\n",
      "File \u001b[0;32m/opt/anaconda3/envs/urdu/lib/python3.10/site-packages/transformers/image_transforms.py:44\u001b[0m\n\u001b[1;32m     41\u001b[0m     \u001b[38;5;28;01mfrom\u001b[39;00m \u001b[38;5;21;01m.\u001b[39;00m\u001b[38;5;21;01mimage_utils\u001b[39;00m \u001b[38;5;28;01mimport\u001b[39;00m PILImageResampling\n\u001b[1;32m     43\u001b[0m \u001b[38;5;28;01mif\u001b[39;00m is_torch_available():\n\u001b[0;32m---> 44\u001b[0m     \u001b[38;5;28;01mimport\u001b[39;00m \u001b[38;5;21;01mtorch\u001b[39;00m\n\u001b[1;32m     46\u001b[0m \u001b[38;5;28;01mif\u001b[39;00m is_tf_available():\n\u001b[1;32m     47\u001b[0m     \u001b[38;5;28;01mimport\u001b[39;00m \u001b[38;5;21;01mtensorflow\u001b[39;00m \u001b[38;5;28;01mas\u001b[39;00m \u001b[38;5;21;01mtf\u001b[39;00m\n",
      "File \u001b[0;32m/opt/anaconda3/envs/urdu/lib/python3.10/site-packages/torch/__init__.py:1750\u001b[0m\n\u001b[1;32m   1748\u001b[0m \u001b[38;5;28;01mfrom\u001b[39;00m \u001b[38;5;21;01m.\u001b[39;00m \u001b[38;5;28;01mimport\u001b[39;00m library\n\u001b[1;32m   1749\u001b[0m \u001b[38;5;28;01mif\u001b[39;00m \u001b[38;5;129;01mnot\u001b[39;00m TYPE_CHECKING:\n\u001b[0;32m-> 1750\u001b[0m     \u001b[38;5;28;01mfrom\u001b[39;00m \u001b[38;5;21;01m.\u001b[39;00m \u001b[38;5;28;01mimport\u001b[39;00m _meta_registrations\n\u001b[1;32m   1752\u001b[0m \u001b[38;5;66;03m# Enable CUDA Sanitizer\u001b[39;00m\n\u001b[1;32m   1753\u001b[0m \u001b[38;5;28;01mif\u001b[39;00m \u001b[38;5;124m'\u001b[39m\u001b[38;5;124mTORCH_CUDA_SANITIZER\u001b[39m\u001b[38;5;124m'\u001b[39m \u001b[38;5;129;01min\u001b[39;00m os\u001b[38;5;241m.\u001b[39menviron:\n",
      "File \u001b[0;32m/opt/anaconda3/envs/urdu/lib/python3.10/site-packages/torch/_meta_registrations.py:8\u001b[0m\n\u001b[1;32m      6\u001b[0m \u001b[38;5;28;01mimport\u001b[39;00m \u001b[38;5;21;01mtorch\u001b[39;00m\u001b[38;5;21;01m.\u001b[39;00m\u001b[38;5;21;01m_prims_common\u001b[39;00m \u001b[38;5;28;01mas\u001b[39;00m \u001b[38;5;21;01mutils\u001b[39;00m\n\u001b[1;32m      7\u001b[0m \u001b[38;5;28;01mfrom\u001b[39;00m \u001b[38;5;21;01mtorch\u001b[39;00m \u001b[38;5;28;01mimport\u001b[39;00m SymBool, SymFloat, Tensor\n\u001b[0;32m----> 8\u001b[0m \u001b[38;5;28;01mfrom\u001b[39;00m \u001b[38;5;21;01mtorch\u001b[39;00m\u001b[38;5;21;01m.\u001b[39;00m\u001b[38;5;21;01m_decomp\u001b[39;00m \u001b[38;5;28;01mimport\u001b[39;00m (\n\u001b[1;32m      9\u001b[0m     _add_op_to_registry,\n\u001b[1;32m     10\u001b[0m     _convert_out_params,\n\u001b[1;32m     11\u001b[0m     global_decomposition_table,\n\u001b[1;32m     12\u001b[0m     meta_table,\n\u001b[1;32m     13\u001b[0m )\n\u001b[1;32m     14\u001b[0m \u001b[38;5;28;01mfrom\u001b[39;00m \u001b[38;5;21;01mtorch\u001b[39;00m\u001b[38;5;21;01m.\u001b[39;00m\u001b[38;5;21;01m_ops\u001b[39;00m \u001b[38;5;28;01mimport\u001b[39;00m OpOverload\n\u001b[1;32m     15\u001b[0m \u001b[38;5;28;01mfrom\u001b[39;00m \u001b[38;5;21;01mtorch\u001b[39;00m\u001b[38;5;21;01m.\u001b[39;00m\u001b[38;5;21;01m_prims\u001b[39;00m \u001b[38;5;28;01mimport\u001b[39;00m _elementwise_meta, ELEMENTWISE_PRIM_TYPE_PROMOTION_KIND\n",
      "File \u001b[0;32m/opt/anaconda3/envs/urdu/lib/python3.10/site-packages/torch/_decomp/__init__.py:190\u001b[0m\n\u001b[1;32m    186\u001b[0m             decompositions\u001b[38;5;241m.\u001b[39mpop(op, \u001b[38;5;28;01mNone\u001b[39;00m)\n\u001b[1;32m    189\u001b[0m \u001b[38;5;66;03m# populate the table\u001b[39;00m\n\u001b[0;32m--> 190\u001b[0m \u001b[38;5;28;01mimport\u001b[39;00m \u001b[38;5;21;01mtorch\u001b[39;00m\u001b[38;5;21;01m.\u001b[39;00m\u001b[38;5;21;01m_decomp\u001b[39;00m\u001b[38;5;21;01m.\u001b[39;00m\u001b[38;5;21;01mdecompositions\u001b[39;00m\n\u001b[1;32m    191\u001b[0m \u001b[38;5;28;01mimport\u001b[39;00m \u001b[38;5;21;01mtorch\u001b[39;00m\u001b[38;5;21;01m.\u001b[39;00m\u001b[38;5;21;01m_refs\u001b[39;00m\n\u001b[1;32m    194\u001b[0m \u001b[38;5;66;03m# See NOTE [Core ATen Ops]\u001b[39;00m\n\u001b[1;32m    195\u001b[0m \u001b[38;5;66;03m#\u001b[39;00m\n\u001b[1;32m    196\u001b[0m \u001b[38;5;66;03m# list was copied from torch/_inductor/decomposition.py\u001b[39;00m\n\u001b[1;32m    197\u001b[0m \u001b[38;5;66;03m# excluding decompositions that results in prim ops\u001b[39;00m\n\u001b[1;32m    198\u001b[0m \u001b[38;5;66;03m# Resulting opset of decomposition is core aten ops\u001b[39;00m\n",
      "File \u001b[0;32m/opt/anaconda3/envs/urdu/lib/python3.10/site-packages/torch/_decomp/decompositions.py:10\u001b[0m\n\u001b[1;32m      7\u001b[0m \u001b[38;5;28;01mfrom\u001b[39;00m \u001b[38;5;21;01mtyping\u001b[39;00m \u001b[38;5;28;01mimport\u001b[39;00m Callable, cast, Iterable, List, Optional, Tuple, Union\n\u001b[1;32m      9\u001b[0m \u001b[38;5;28;01mimport\u001b[39;00m \u001b[38;5;21;01mtorch\u001b[39;00m\n\u001b[0;32m---> 10\u001b[0m \u001b[38;5;28;01mimport\u001b[39;00m \u001b[38;5;21;01mtorch\u001b[39;00m\u001b[38;5;21;01m.\u001b[39;00m\u001b[38;5;21;01m_prims\u001b[39;00m \u001b[38;5;28;01mas\u001b[39;00m \u001b[38;5;21;01mprims\u001b[39;00m\n\u001b[1;32m     11\u001b[0m \u001b[38;5;28;01mimport\u001b[39;00m \u001b[38;5;21;01mtorch\u001b[39;00m\u001b[38;5;21;01m.\u001b[39;00m\u001b[38;5;21;01m_prims_common\u001b[39;00m \u001b[38;5;28;01mas\u001b[39;00m \u001b[38;5;21;01mutils\u001b[39;00m\n\u001b[1;32m     12\u001b[0m \u001b[38;5;28;01mimport\u001b[39;00m \u001b[38;5;21;01mtorch\u001b[39;00m\u001b[38;5;21;01m.\u001b[39;00m\u001b[38;5;21;01mnn\u001b[39;00m\u001b[38;5;21;01m.\u001b[39;00m\u001b[38;5;21;01mfunctional\u001b[39;00m \u001b[38;5;28;01mas\u001b[39;00m \u001b[38;5;21;01mF\u001b[39;00m\n",
      "File \u001b[0;32m/opt/anaconda3/envs/urdu/lib/python3.10/site-packages/torch/_prims/__init__.py:2968\u001b[0m\n\u001b[1;32m   2959\u001b[0m fft_c2r \u001b[38;5;241m=\u001b[39m _make_prim(\n\u001b[1;32m   2960\u001b[0m     schema\u001b[38;5;241m=\u001b[39m\u001b[38;5;124m\"\u001b[39m\u001b[38;5;124mfft_c2r(Tensor self, *, int[] dim, SymInt last_dim_size) -> Tensor\u001b[39m\u001b[38;5;124m\"\u001b[39m,\n\u001b[1;32m   2961\u001b[0m     meta\u001b[38;5;241m=\u001b[39m_fft_c2r_meta,\n\u001b[0;32m   (...)\u001b[0m\n\u001b[1;32m   2964\u001b[0m     doc\u001b[38;5;241m=\u001b[39m_fft_c2r_doc,\n\u001b[1;32m   2965\u001b[0m )\n\u001b[1;32m   2967\u001b[0m register_rng_prims()\n\u001b[0;32m-> 2968\u001b[0m \u001b[43mregister_debug_prims\u001b[49m\u001b[43m(\u001b[49m\u001b[43m)\u001b[49m\n",
      "File \u001b[0;32m/opt/anaconda3/envs/urdu/lib/python3.10/site-packages/torch/_prims/debug_prims.py:41\u001b[0m, in \u001b[0;36mregister_debug_prims\u001b[0;34m()\u001b[0m\n\u001b[1;32m     29\u001b[0m \u001b[38;5;129m@custom_op\u001b[39m(\u001b[38;5;124m\"\u001b[39m\u001b[38;5;124mdebugprims::load_tensor\u001b[39m\u001b[38;5;124m\"\u001b[39m)\n\u001b[1;32m     30\u001b[0m \u001b[38;5;28;01mdef\u001b[39;00m \u001b[38;5;21mload_tensor\u001b[39m(  \u001b[38;5;66;03m# type: ignore[empty-body]\u001b[39;00m\n\u001b[1;32m     31\u001b[0m     name: \u001b[38;5;28mstr\u001b[39m,\n\u001b[0;32m   (...)\u001b[0m\n\u001b[1;32m     36\u001b[0m     device: torch\u001b[38;5;241m.\u001b[39mdevice,\n\u001b[1;32m     37\u001b[0m ) \u001b[38;5;241m-\u001b[39m\u001b[38;5;241m>\u001b[39m torch\u001b[38;5;241m.\u001b[39mTensor:\n\u001b[1;32m     38\u001b[0m     \u001b[38;5;241m.\u001b[39m\u001b[38;5;241m.\u001b[39m\u001b[38;5;241m.\u001b[39m\n\u001b[1;32m     40\u001b[0m \u001b[43m\u001b[49m\u001b[38;5;129;43m@load_tensor\u001b[39;49m\u001b[38;5;241;43m.\u001b[39;49m\u001b[43mimpl_factory\u001b[49m\u001b[43m(\u001b[49m\u001b[43m)\u001b[49m\n\u001b[0;32m---> 41\u001b[0m \u001b[43m\u001b[49m\u001b[38;5;28;43;01mdef\u001b[39;49;00m\u001b[43m \u001b[49m\u001b[38;5;21;43mload_tensor_factory\u001b[39;49m\u001b[43m(\u001b[49m\u001b[43mname\u001b[49m\u001b[43m,\u001b[49m\u001b[43m \u001b[49m\u001b[43msize\u001b[49m\u001b[43m,\u001b[49m\u001b[43m \u001b[49m\u001b[43mstride\u001b[49m\u001b[43m,\u001b[49m\u001b[43m \u001b[49m\u001b[43mdtype\u001b[49m\u001b[43m,\u001b[49m\u001b[43m \u001b[49m\u001b[43mdevice\u001b[49m\u001b[43m)\u001b[49m\u001b[43m:\u001b[49m\n\u001b[1;32m     42\u001b[0m \u001b[43m    \u001b[49m\u001b[38;5;28;43;01mif\u001b[39;49;00m\u001b[43m \u001b[49m\u001b[43mLOAD_TENSOR_READER\u001b[49m\u001b[43m \u001b[49m\u001b[38;5;129;43;01mis\u001b[39;49;00m\u001b[43m \u001b[49m\u001b[38;5;28;43;01mNone\u001b[39;49;00m\u001b[43m:\u001b[49m\n\u001b[1;32m     43\u001b[0m \u001b[43m        \u001b[49m\u001b[38;5;28;43;01mfrom\u001b[39;49;00m\u001b[43m \u001b[49m\u001b[38;5;21;43;01mtorch\u001b[39;49;00m\u001b[38;5;21;43;01m.\u001b[39;49;00m\u001b[38;5;21;43;01m_dynamo\u001b[39;49;00m\u001b[38;5;21;43;01m.\u001b[39;49;00m\u001b[38;5;21;43;01mtesting\u001b[39;49;00m\u001b[43m \u001b[49m\u001b[38;5;28;43;01mimport\u001b[39;49;00m\u001b[43m \u001b[49m\u001b[43mrand_strided\u001b[49m\n",
      "File \u001b[0;32m/opt/anaconda3/envs/urdu/lib/python3.10/site-packages/torch/_custom_op/impl.py:330\u001b[0m, in \u001b[0;36mCustomOp.impl_factory.<locals>.inner\u001b[0;34m(f)\u001b[0m\n\u001b[1;32m    329\u001b[0m \u001b[38;5;28;01mdef\u001b[39;00m \u001b[38;5;21minner\u001b[39m(f):\n\u001b[0;32m--> 330\u001b[0m     \u001b[38;5;28;43mself\u001b[39;49m\u001b[38;5;241;43m.\u001b[39;49m\u001b[43m_register_impl\u001b[49m\u001b[43m(\u001b[49m\u001b[38;5;124;43m\"\u001b[39;49m\u001b[38;5;124;43mfactory\u001b[39;49m\u001b[38;5;124;43m\"\u001b[39;49m\u001b[43m,\u001b[49m\u001b[43m \u001b[49m\u001b[43mf\u001b[49m\u001b[43m)\u001b[49m\n\u001b[1;32m    331\u001b[0m     library\u001b[38;5;241m.\u001b[39mimpl(\u001b[38;5;28mself\u001b[39m\u001b[38;5;241m.\u001b[39m_lib, \u001b[38;5;28mself\u001b[39m\u001b[38;5;241m.\u001b[39m_opname, \u001b[38;5;124m\"\u001b[39m\u001b[38;5;124mBackendSelect\u001b[39m\u001b[38;5;124m\"\u001b[39m)(f)\n\u001b[1;32m    332\u001b[0m     \u001b[38;5;28;01mreturn\u001b[39;00m f\n",
      "File \u001b[0;32m/opt/anaconda3/envs/urdu/lib/python3.10/site-packages/torch/_custom_op/impl.py:221\u001b[0m, in \u001b[0;36mCustomOp._register_impl\u001b[0;34m(self, kind, func, stacklevel)\u001b[0m\n\u001b[1;32m    215\u001b[0m     location \u001b[38;5;241m=\u001b[39m func_and_location\u001b[38;5;241m.\u001b[39mlocation\n\u001b[1;32m    216\u001b[0m     \u001b[38;5;28;01mraise\u001b[39;00m \u001b[38;5;167;01mRuntimeError\u001b[39;00m(\n\u001b[1;32m    217\u001b[0m         \u001b[38;5;124mf\u001b[39m\u001b[38;5;124m\"\u001b[39m\u001b[38;5;124mAttempting to register a \u001b[39m\u001b[38;5;132;01m{\u001b[39;00mkind\u001b[38;5;132;01m}\u001b[39;00m\u001b[38;5;124m impl for operator \u001b[39m\u001b[38;5;132;01m{\u001b[39;00m\u001b[38;5;28mself\u001b[39m\u001b[38;5;241m.\u001b[39m_qualname\u001b[38;5;132;01m}\u001b[39;00m\u001b[38;5;124m \u001b[39m\u001b[38;5;124m\"\u001b[39m\n\u001b[1;32m    218\u001b[0m         \u001b[38;5;124mf\u001b[39m\u001b[38;5;124m\"\u001b[39m\u001b[38;5;124mthat already has a \u001b[39m\u001b[38;5;132;01m{\u001b[39;00mkind\u001b[38;5;132;01m}\u001b[39;00m\u001b[38;5;124m impl registered from Python at \u001b[39m\u001b[38;5;124m\"\u001b[39m\n\u001b[1;32m    219\u001b[0m         \u001b[38;5;124mf\u001b[39m\u001b[38;5;124m\"\u001b[39m\u001b[38;5;132;01m{\u001b[39;00mlocation\u001b[38;5;132;01m}\u001b[39;00m\u001b[38;5;124m. This is not supported.\u001b[39m\u001b[38;5;124m\"\u001b[39m\n\u001b[1;32m    220\u001b[0m     )\n\u001b[0;32m--> 221\u001b[0m frame \u001b[38;5;241m=\u001b[39m \u001b[43minspect\u001b[49m\u001b[38;5;241;43m.\u001b[39;49m\u001b[43mgetframeinfo\u001b[49m\u001b[43m(\u001b[49m\u001b[43msys\u001b[49m\u001b[38;5;241;43m.\u001b[39;49m\u001b[43m_getframe\u001b[49m\u001b[43m(\u001b[49m\u001b[43mstacklevel\u001b[49m\u001b[43m)\u001b[49m\u001b[43m)\u001b[49m\n\u001b[1;32m    222\u001b[0m location \u001b[38;5;241m=\u001b[39m \u001b[38;5;124mf\u001b[39m\u001b[38;5;124m\"\u001b[39m\u001b[38;5;132;01m{\u001b[39;00mframe\u001b[38;5;241m.\u001b[39mfilename\u001b[38;5;132;01m}\u001b[39;00m\u001b[38;5;124m:\u001b[39m\u001b[38;5;132;01m{\u001b[39;00mframe\u001b[38;5;241m.\u001b[39mlineno\u001b[38;5;132;01m}\u001b[39;00m\u001b[38;5;124m\"\u001b[39m\n\u001b[1;32m    223\u001b[0m \u001b[38;5;28mself\u001b[39m\u001b[38;5;241m.\u001b[39m_impls[kind] \u001b[38;5;241m=\u001b[39m FuncAndLocation(func, location)\n",
      "File \u001b[0;32m/opt/anaconda3/envs/urdu/lib/python3.10/inspect.py:1624\u001b[0m, in \u001b[0;36mgetframeinfo\u001b[0;34m(frame, context)\u001b[0m\n\u001b[1;32m   1622\u001b[0m start \u001b[38;5;241m=\u001b[39m lineno \u001b[38;5;241m-\u001b[39m \u001b[38;5;241m1\u001b[39m \u001b[38;5;241m-\u001b[39m context\u001b[38;5;241m/\u001b[39m\u001b[38;5;241m/\u001b[39m\u001b[38;5;241m2\u001b[39m\n\u001b[1;32m   1623\u001b[0m \u001b[38;5;28;01mtry\u001b[39;00m:\n\u001b[0;32m-> 1624\u001b[0m     lines, lnum \u001b[38;5;241m=\u001b[39m \u001b[43mfindsource\u001b[49m\u001b[43m(\u001b[49m\u001b[43mframe\u001b[49m\u001b[43m)\u001b[49m\n\u001b[1;32m   1625\u001b[0m \u001b[38;5;28;01mexcept\u001b[39;00m \u001b[38;5;167;01mOSError\u001b[39;00m:\n\u001b[1;32m   1626\u001b[0m     lines \u001b[38;5;241m=\u001b[39m index \u001b[38;5;241m=\u001b[39m \u001b[38;5;28;01mNone\u001b[39;00m\n",
      "File \u001b[0;32m/opt/anaconda3/envs/urdu/lib/python3.10/inspect.py:952\u001b[0m, in \u001b[0;36mfindsource\u001b[0;34m(object)\u001b[0m\n\u001b[1;32m    949\u001b[0m     \u001b[38;5;28;01mif\u001b[39;00m \u001b[38;5;129;01mnot\u001b[39;00m (file\u001b[38;5;241m.\u001b[39mstartswith(\u001b[38;5;124m'\u001b[39m\u001b[38;5;124m<\u001b[39m\u001b[38;5;124m'\u001b[39m) \u001b[38;5;129;01mand\u001b[39;00m file\u001b[38;5;241m.\u001b[39mendswith(\u001b[38;5;124m'\u001b[39m\u001b[38;5;124m>\u001b[39m\u001b[38;5;124m'\u001b[39m)):\n\u001b[1;32m    950\u001b[0m         \u001b[38;5;28;01mraise\u001b[39;00m \u001b[38;5;167;01mOSError\u001b[39;00m(\u001b[38;5;124m'\u001b[39m\u001b[38;5;124msource code not available\u001b[39m\u001b[38;5;124m'\u001b[39m)\n\u001b[0;32m--> 952\u001b[0m module \u001b[38;5;241m=\u001b[39m \u001b[43mgetmodule\u001b[49m\u001b[43m(\u001b[49m\u001b[38;5;28;43mobject\u001b[39;49m\u001b[43m,\u001b[49m\u001b[43m \u001b[49m\u001b[43mfile\u001b[49m\u001b[43m)\u001b[49m\n\u001b[1;32m    953\u001b[0m \u001b[38;5;28;01mif\u001b[39;00m module:\n\u001b[1;32m    954\u001b[0m     lines \u001b[38;5;241m=\u001b[39m linecache\u001b[38;5;241m.\u001b[39mgetlines(file, module\u001b[38;5;241m.\u001b[39m\u001b[38;5;18m__dict__\u001b[39m)\n",
      "File \u001b[0;32m/opt/anaconda3/envs/urdu/lib/python3.10/inspect.py:878\u001b[0m, in \u001b[0;36mgetmodule\u001b[0;34m(object, _filename)\u001b[0m\n\u001b[1;32m    875\u001b[0m         f \u001b[38;5;241m=\u001b[39m getabsfile(module)\n\u001b[1;32m    876\u001b[0m         \u001b[38;5;66;03m# Always map to the name the module knows itself by\u001b[39;00m\n\u001b[1;32m    877\u001b[0m         modulesbyfile[f] \u001b[38;5;241m=\u001b[39m modulesbyfile[\n\u001b[0;32m--> 878\u001b[0m             \u001b[43mos\u001b[49m\u001b[38;5;241;43m.\u001b[39;49m\u001b[43mpath\u001b[49m\u001b[38;5;241;43m.\u001b[39;49m\u001b[43mrealpath\u001b[49m\u001b[43m(\u001b[49m\u001b[43mf\u001b[49m\u001b[43m)\u001b[49m] \u001b[38;5;241m=\u001b[39m module\u001b[38;5;241m.\u001b[39m\u001b[38;5;18m__name__\u001b[39m\n\u001b[1;32m    879\u001b[0m \u001b[38;5;28;01mif\u001b[39;00m file \u001b[38;5;129;01min\u001b[39;00m modulesbyfile:\n\u001b[1;32m    880\u001b[0m     \u001b[38;5;28;01mreturn\u001b[39;00m sys\u001b[38;5;241m.\u001b[39mmodules\u001b[38;5;241m.\u001b[39mget(modulesbyfile[file])\n",
      "File \u001b[0;32m/opt/anaconda3/envs/urdu/lib/python3.10/posixpath.py:396\u001b[0m, in \u001b[0;36mrealpath\u001b[0;34m(filename, strict)\u001b[0m\n\u001b[1;32m    393\u001b[0m \u001b[38;5;250m    \u001b[39m\u001b[38;5;124;03m\"\"\"Return the canonical path of the specified filename, eliminating any\u001b[39;00m\n\u001b[1;32m    394\u001b[0m \u001b[38;5;124;03msymbolic links encountered in the path.\"\"\"\u001b[39;00m\n\u001b[1;32m    395\u001b[0m     filename \u001b[38;5;241m=\u001b[39m os\u001b[38;5;241m.\u001b[39mfspath(filename)\n\u001b[0;32m--> 396\u001b[0m     path, ok \u001b[38;5;241m=\u001b[39m \u001b[43m_joinrealpath\u001b[49m\u001b[43m(\u001b[49m\u001b[43mfilename\u001b[49m\u001b[43m[\u001b[49m\u001b[43m:\u001b[49m\u001b[38;5;241;43m0\u001b[39;49m\u001b[43m]\u001b[49m\u001b[43m,\u001b[49m\u001b[43m \u001b[49m\u001b[43mfilename\u001b[49m\u001b[43m,\u001b[49m\u001b[43m \u001b[49m\u001b[43mstrict\u001b[49m\u001b[43m,\u001b[49m\u001b[43m \u001b[49m\u001b[43m{\u001b[49m\u001b[43m}\u001b[49m\u001b[43m)\u001b[49m\n\u001b[1;32m    397\u001b[0m     \u001b[38;5;28;01mreturn\u001b[39;00m abspath(path)\n",
      "File \u001b[0;32m/opt/anaconda3/envs/urdu/lib/python3.10/posixpath.py:420\u001b[0m, in \u001b[0;36m_joinrealpath\u001b[0;34m(path, rest, strict, seen)\u001b[0m\n\u001b[1;32m    417\u001b[0m \u001b[38;5;28;01mif\u001b[39;00m \u001b[38;5;129;01mnot\u001b[39;00m name \u001b[38;5;129;01mor\u001b[39;00m name \u001b[38;5;241m==\u001b[39m curdir:\n\u001b[1;32m    418\u001b[0m     \u001b[38;5;66;03m# current dir\u001b[39;00m\n\u001b[1;32m    419\u001b[0m     \u001b[38;5;28;01mcontinue\u001b[39;00m\n\u001b[0;32m--> 420\u001b[0m \u001b[38;5;28;01mif\u001b[39;00m name \u001b[38;5;241m==\u001b[39m pardir:\n\u001b[1;32m    421\u001b[0m     \u001b[38;5;66;03m# parent dir\u001b[39;00m\n\u001b[1;32m    422\u001b[0m     \u001b[38;5;28;01mif\u001b[39;00m path:\n\u001b[1;32m    423\u001b[0m         path, name \u001b[38;5;241m=\u001b[39m split(path)\n",
      "\u001b[0;31mKeyboardInterrupt\u001b[0m: "
     ]
    }
   ],
   "source": [
    "import numpy as np\n",
    "from transformers import pipeline\n",
    "from IPython.display import Audio\n",
    "from transformers.pipelines.audio_utils import ffmpeg_microphone_live\n",
    "\n",
    "pipe = pipeline(\"automatic-speech-recognition\", model=\"openai/whisper-small\")\n",
    "\n",
    "stream_chunk_s = 1.0\n",
    "chunk_length_s = 0.5\n",
    "SAMPLING_RATE = 16_000\n",
    "\n",
    "mic = ffmpeg_microphone_live(\n",
    "    sampling_rate=SAMPLING_RATE,\n",
    "    chunk_length_s=chunk_length_s,\n",
    "    stream_chunk_s=stream_chunk_s,\n",
    "    stride_length_s=0.0,\n",
    ")\n",
    "\n",
    "audios = []\n",
    "for i in range(2):\n",
    "    audio = next(mic)['raw']\n",
    "    audios.append(audio)\n",
    "\n",
    "audios_flattened = np.array(audios).flatten()\n",
    "\n",
    "Audio(audios_flattened, rate=SAMPLING_RATE, autoplay=True)\n",
    "\n",
    "transcription = pipe(\"/Users/shehryarsohail-nu/Downloads/2024-06-12T19_18_14.111Z.wav\", generate_kwargs={'language': 'urdu'})\n",
    "print(transcription)\n"
   ]
  },
  {
   "cell_type": "code",
   "execution_count": 1,
   "metadata": {},
   "outputs": [
    {
     "name": "stderr",
     "output_type": "stream",
     "text": [
      "/opt/anaconda3/envs/urdu/lib/python3.10/site-packages/tqdm/auto.py:21: TqdmWarning: IProgress not found. Please update jupyter and ipywidgets. See https://ipywidgets.readthedocs.io/en/stable/user_install.html\n",
      "  from .autonotebook import tqdm as notebook_tqdm\n",
      "Special tokens have been added in the vocabulary, make sure the associated word embeddings are fine-tuned or trained.\n"
     ]
    }
   ],
   "source": [
    "import numpy as np\n",
    "from transformers import pipeline\n",
    "from IPython.display import Audio\n",
    "from transformers.pipelines.audio_utils import ffmpeg_microphone_live\n",
    "\n",
    "pipe = pipeline(\"automatic-speech-recognition\", model=\"openai/whisper-small\")\n",
    "transcription = pipe(\"/Users/shehryarsohail-nu/Downloads/2024-06-12T19_18_14.111Z.wav\", generate_kwargs={'language': 'urdu'})\n"
   ]
  },
  {
   "cell_type": "code",
   "execution_count": 2,
   "metadata": {},
   "outputs": [
    {
     "name": "stdout",
     "output_type": "stream",
     "text": [
      "{'text': ' ہلو میرا نام شہری آر ہے'}\n"
     ]
    }
   ],
   "source": [
    "print(transcription)\n"
   ]
  },
  {
   "cell_type": "code",
   "execution_count": null,
   "metadata": {},
   "outputs": [],
   "source": []
  }
 ],
 "metadata": {
  "kernelspec": {
   "display_name": "urdu",
   "language": "python",
   "name": "python3"
  },
  "language_info": {
   "codemirror_mode": {
    "name": "ipython",
    "version": 3
   },
   "file_extension": ".py",
   "mimetype": "text/x-python",
   "name": "python",
   "nbconvert_exporter": "python",
   "pygments_lexer": "ipython3",
   "version": "3.10.14"
  }
 },
 "nbformat": 4,
 "nbformat_minor": 2
}
